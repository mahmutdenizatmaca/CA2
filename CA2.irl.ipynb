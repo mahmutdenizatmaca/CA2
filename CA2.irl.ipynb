{
 "cells": [
  {
   "cell_type": "markdown",
   "id": "6587f8ab",
   "metadata": {},
   "source": [
    "## CA2"
   ]
  },
  {
   "cell_type": "code",
   "execution_count": 251,
   "id": "ebed3645",
   "metadata": {},
   "outputs": [],
   "source": [
    "# Importing the libraries\n",
    "import pandas as pd\n",
    "import numpy as np\n",
    "import matplotlib.pyplot as plt   \n",
    "import seaborn as sns\n",
    "%matplotlib inline\n"
   ]
  },
  {
   "cell_type": "code",
   "execution_count": 252,
   "id": "2e1a8cd5",
   "metadata": {},
   "outputs": [],
   "source": [
    "# Importing the dataset\n",
    "data_irl=pd.read_csv(\"ir_vehicle.csv\")\n"
   ]
  },
  {
   "cell_type": "code",
   "execution_count": 253,
   "id": "615a751d",
   "metadata": {},
   "outputs": [
    {
     "data": {
      "text/html": [
       "<div>\n",
       "<style scoped>\n",
       "    .dataframe tbody tr th:only-of-type {\n",
       "        vertical-align: middle;\n",
       "    }\n",
       "\n",
       "    .dataframe tbody tr th {\n",
       "        vertical-align: top;\n",
       "    }\n",
       "\n",
       "    .dataframe thead th {\n",
       "        text-align: right;\n",
       "    }\n",
       "</style>\n",
       "<table border=\"1\" class=\"dataframe\">\n",
       "  <thead>\n",
       "    <tr style=\"text-align: right;\">\n",
       "      <th></th>\n",
       "      <th>Statistic Label</th>\n",
       "      <th>Year</th>\n",
       "      <th>Type of Vehicle</th>\n",
       "      <th>UNIT</th>\n",
       "      <th>VALUE</th>\n",
       "    </tr>\n",
       "  </thead>\n",
       "  <tbody>\n",
       "    <tr>\n",
       "      <th>0</th>\n",
       "      <td>Vehicle Population</td>\n",
       "      <td>2000</td>\n",
       "      <td>Private cars</td>\n",
       "      <td>Number</td>\n",
       "      <td>1314059</td>\n",
       "    </tr>\n",
       "    <tr>\n",
       "      <th>1</th>\n",
       "      <td>Vehicle Population</td>\n",
       "      <td>2000</td>\n",
       "      <td>Goods vehicles</td>\n",
       "      <td>Number</td>\n",
       "      <td>199259</td>\n",
       "    </tr>\n",
       "    <tr>\n",
       "      <th>2</th>\n",
       "      <td>Vehicle Population</td>\n",
       "      <td>2000</td>\n",
       "      <td>Motor cycles</td>\n",
       "      <td>Number</td>\n",
       "      <td>28489</td>\n",
       "    </tr>\n",
       "    <tr>\n",
       "      <th>3</th>\n",
       "      <td>Vehicle Population</td>\n",
       "      <td>2000</td>\n",
       "      <td>Tractors &amp; Machinery</td>\n",
       "      <td>Number</td>\n",
       "      <td>74211</td>\n",
       "    </tr>\n",
       "    <tr>\n",
       "      <th>4</th>\n",
       "      <td>Vehicle Population</td>\n",
       "      <td>2000</td>\n",
       "      <td>Small PSVs</td>\n",
       "      <td>Number</td>\n",
       "      <td>13983</td>\n",
       "    </tr>\n",
       "    <tr>\n",
       "      <th>...</th>\n",
       "      <td>...</td>\n",
       "      <td>...</td>\n",
       "      <td>...</td>\n",
       "      <td>...</td>\n",
       "      <td>...</td>\n",
       "    </tr>\n",
       "    <tr>\n",
       "      <th>179</th>\n",
       "      <td>Vehicle Population</td>\n",
       "      <td>2022</td>\n",
       "      <td>Tractors &amp; Machinery</td>\n",
       "      <td>Number</td>\n",
       "      <td>83780</td>\n",
       "    </tr>\n",
       "    <tr>\n",
       "      <th>180</th>\n",
       "      <td>Vehicle Population</td>\n",
       "      <td>2022</td>\n",
       "      <td>Small PSVs</td>\n",
       "      <td>Number</td>\n",
       "      <td>17819</td>\n",
       "    </tr>\n",
       "    <tr>\n",
       "      <th>181</th>\n",
       "      <td>Vehicle Population</td>\n",
       "      <td>2022</td>\n",
       "      <td>Large PSVs</td>\n",
       "      <td>Number</td>\n",
       "      <td>11380</td>\n",
       "    </tr>\n",
       "    <tr>\n",
       "      <th>182</th>\n",
       "      <td>Vehicle Population</td>\n",
       "      <td>2022</td>\n",
       "      <td>Exempt vehicles</td>\n",
       "      <td>Number</td>\n",
       "      <td>30356</td>\n",
       "    </tr>\n",
       "    <tr>\n",
       "      <th>183</th>\n",
       "      <td>Vehicle Population</td>\n",
       "      <td>2022</td>\n",
       "      <td>Other vehicles</td>\n",
       "      <td>Number</td>\n",
       "      <td>83238</td>\n",
       "    </tr>\n",
       "  </tbody>\n",
       "</table>\n",
       "<p>184 rows × 5 columns</p>\n",
       "</div>"
      ],
      "text/plain": [
       "        Statistic Label  Year       Type of Vehicle    UNIT    VALUE\n",
       "0    Vehicle Population  2000          Private cars  Number  1314059\n",
       "1    Vehicle Population  2000        Goods vehicles  Number   199259\n",
       "2    Vehicle Population  2000          Motor cycles  Number    28489\n",
       "3    Vehicle Population  2000  Tractors & Machinery  Number    74211\n",
       "4    Vehicle Population  2000            Small PSVs  Number    13983\n",
       "..                  ...   ...                   ...     ...      ...\n",
       "179  Vehicle Population  2022  Tractors & Machinery  Number    83780\n",
       "180  Vehicle Population  2022            Small PSVs  Number    17819\n",
       "181  Vehicle Population  2022            Large PSVs  Number    11380\n",
       "182  Vehicle Population  2022       Exempt vehicles  Number    30356\n",
       "183  Vehicle Population  2022        Other vehicles  Number    83238\n",
       "\n",
       "[184 rows x 5 columns]"
      ]
     },
     "execution_count": 253,
     "metadata": {},
     "output_type": "execute_result"
    }
   ],
   "source": [
    "data_irl"
   ]
  },
  {
   "cell_type": "code",
   "execution_count": 254,
   "id": "fd347983",
   "metadata": {},
   "outputs": [],
   "source": [
    "data_irl = data_irl.drop(\"UNIT\", axis=1)"
   ]
  },
  {
   "cell_type": "code",
   "execution_count": 255,
   "id": "d89ef578",
   "metadata": {},
   "outputs": [
    {
     "data": {
      "text/html": [
       "<div>\n",
       "<style scoped>\n",
       "    .dataframe tbody tr th:only-of-type {\n",
       "        vertical-align: middle;\n",
       "    }\n",
       "\n",
       "    .dataframe tbody tr th {\n",
       "        vertical-align: top;\n",
       "    }\n",
       "\n",
       "    .dataframe thead th {\n",
       "        text-align: right;\n",
       "    }\n",
       "</style>\n",
       "<table border=\"1\" class=\"dataframe\">\n",
       "  <thead>\n",
       "    <tr style=\"text-align: right;\">\n",
       "      <th></th>\n",
       "      <th>Statistic Label</th>\n",
       "      <th>Year</th>\n",
       "      <th>Type of Vehicle</th>\n",
       "      <th>VALUE</th>\n",
       "    </tr>\n",
       "  </thead>\n",
       "  <tbody>\n",
       "    <tr>\n",
       "      <th>0</th>\n",
       "      <td>Vehicle Population</td>\n",
       "      <td>2000</td>\n",
       "      <td>Private cars</td>\n",
       "      <td>1314059</td>\n",
       "    </tr>\n",
       "    <tr>\n",
       "      <th>1</th>\n",
       "      <td>Vehicle Population</td>\n",
       "      <td>2000</td>\n",
       "      <td>Goods vehicles</td>\n",
       "      <td>199259</td>\n",
       "    </tr>\n",
       "    <tr>\n",
       "      <th>2</th>\n",
       "      <td>Vehicle Population</td>\n",
       "      <td>2000</td>\n",
       "      <td>Motor cycles</td>\n",
       "      <td>28489</td>\n",
       "    </tr>\n",
       "    <tr>\n",
       "      <th>3</th>\n",
       "      <td>Vehicle Population</td>\n",
       "      <td>2000</td>\n",
       "      <td>Tractors &amp; Machinery</td>\n",
       "      <td>74211</td>\n",
       "    </tr>\n",
       "    <tr>\n",
       "      <th>4</th>\n",
       "      <td>Vehicle Population</td>\n",
       "      <td>2000</td>\n",
       "      <td>Small PSVs</td>\n",
       "      <td>13983</td>\n",
       "    </tr>\n",
       "    <tr>\n",
       "      <th>...</th>\n",
       "      <td>...</td>\n",
       "      <td>...</td>\n",
       "      <td>...</td>\n",
       "      <td>...</td>\n",
       "    </tr>\n",
       "    <tr>\n",
       "      <th>179</th>\n",
       "      <td>Vehicle Population</td>\n",
       "      <td>2022</td>\n",
       "      <td>Tractors &amp; Machinery</td>\n",
       "      <td>83780</td>\n",
       "    </tr>\n",
       "    <tr>\n",
       "      <th>180</th>\n",
       "      <td>Vehicle Population</td>\n",
       "      <td>2022</td>\n",
       "      <td>Small PSVs</td>\n",
       "      <td>17819</td>\n",
       "    </tr>\n",
       "    <tr>\n",
       "      <th>181</th>\n",
       "      <td>Vehicle Population</td>\n",
       "      <td>2022</td>\n",
       "      <td>Large PSVs</td>\n",
       "      <td>11380</td>\n",
       "    </tr>\n",
       "    <tr>\n",
       "      <th>182</th>\n",
       "      <td>Vehicle Population</td>\n",
       "      <td>2022</td>\n",
       "      <td>Exempt vehicles</td>\n",
       "      <td>30356</td>\n",
       "    </tr>\n",
       "    <tr>\n",
       "      <th>183</th>\n",
       "      <td>Vehicle Population</td>\n",
       "      <td>2022</td>\n",
       "      <td>Other vehicles</td>\n",
       "      <td>83238</td>\n",
       "    </tr>\n",
       "  </tbody>\n",
       "</table>\n",
       "<p>184 rows × 4 columns</p>\n",
       "</div>"
      ],
      "text/plain": [
       "        Statistic Label  Year       Type of Vehicle    VALUE\n",
       "0    Vehicle Population  2000          Private cars  1314059\n",
       "1    Vehicle Population  2000        Goods vehicles   199259\n",
       "2    Vehicle Population  2000          Motor cycles    28489\n",
       "3    Vehicle Population  2000  Tractors & Machinery    74211\n",
       "4    Vehicle Population  2000            Small PSVs    13983\n",
       "..                  ...   ...                   ...      ...\n",
       "179  Vehicle Population  2022  Tractors & Machinery    83780\n",
       "180  Vehicle Population  2022            Small PSVs    17819\n",
       "181  Vehicle Population  2022            Large PSVs    11380\n",
       "182  Vehicle Population  2022       Exempt vehicles    30356\n",
       "183  Vehicle Population  2022        Other vehicles    83238\n",
       "\n",
       "[184 rows x 4 columns]"
      ]
     },
     "execution_count": 255,
     "metadata": {},
     "output_type": "execute_result"
    }
   ],
   "source": [
    "data_irl"
   ]
  },
  {
   "cell_type": "code",
   "execution_count": 256,
   "id": "c2ebda16",
   "metadata": {},
   "outputs": [
    {
     "data": {
      "text/plain": [
       "False"
      ]
     },
     "execution_count": 256,
     "metadata": {},
     "output_type": "execute_result"
    }
   ],
   "source": [
    "# Checking missing data\n",
    "data_irl.isnull().values.any()\n"
   ]
  },
  {
   "cell_type": "code",
   "execution_count": 257,
   "id": "1e291c0c",
   "metadata": {},
   "outputs": [],
   "source": [
    "# Vehicle types should be encoding"
   ]
  },
  {
   "cell_type": "code",
   "execution_count": 258,
   "id": "a9aaa689",
   "metadata": {},
   "outputs": [
    {
     "data": {
      "text/plain": [
       "array(['Private cars', 'Goods vehicles', 'Motor cycles',\n",
       "       'Tractors & Machinery', 'Small PSVs', 'Large PSVs',\n",
       "       'Exempt vehicles', 'Other vehicles'], dtype=object)"
      ]
     },
     "execution_count": 258,
     "metadata": {},
     "output_type": "execute_result"
    }
   ],
   "source": [
    "data_irl[\"Type of Vehicle\"].unique()"
   ]
  },
  {
   "cell_type": "code",
   "execution_count": 259,
   "id": "9def7829",
   "metadata": {},
   "outputs": [],
   "source": [
    "from sklearn.preprocessing import LabelEncoder\n",
    "from sklearn.preprocessing import OneHotEncoder\n",
    "\n",
    "# Spliting the dataset into independent and dependent variables\n",
    "\n",
    "X = data_irl.iloc[:,1:2].values  \n",
    "y = data_irl.iloc[:,-1].values \n",
    "\n"
   ]
  },
  {
   "cell_type": "code",
   "execution_count": 260,
   "id": "1f7be0d6",
   "metadata": {},
   "outputs": [
    {
     "name": "stdout",
     "output_type": "stream",
     "text": [
      "[[2000]\n",
      " [2000]\n",
      " [2000]\n",
      " [2000]\n",
      " [2000]\n",
      " [2000]\n",
      " [2000]\n",
      " [2000]\n",
      " [2001]\n",
      " [2001]\n",
      " [2001]\n",
      " [2001]\n",
      " [2001]\n",
      " [2001]\n",
      " [2001]\n",
      " [2001]\n",
      " [2002]\n",
      " [2002]\n",
      " [2002]\n",
      " [2002]\n",
      " [2002]\n",
      " [2002]\n",
      " [2002]\n",
      " [2002]\n",
      " [2003]\n",
      " [2003]\n",
      " [2003]\n",
      " [2003]\n",
      " [2003]\n",
      " [2003]\n",
      " [2003]\n",
      " [2003]\n",
      " [2004]\n",
      " [2004]\n",
      " [2004]\n",
      " [2004]\n",
      " [2004]\n",
      " [2004]\n",
      " [2004]\n",
      " [2004]\n",
      " [2005]\n",
      " [2005]\n",
      " [2005]\n",
      " [2005]\n",
      " [2005]\n",
      " [2005]\n",
      " [2005]\n",
      " [2005]\n",
      " [2006]\n",
      " [2006]\n",
      " [2006]\n",
      " [2006]\n",
      " [2006]\n",
      " [2006]\n",
      " [2006]\n",
      " [2006]\n",
      " [2007]\n",
      " [2007]\n",
      " [2007]\n",
      " [2007]\n",
      " [2007]\n",
      " [2007]\n",
      " [2007]\n",
      " [2007]\n",
      " [2008]\n",
      " [2008]\n",
      " [2008]\n",
      " [2008]\n",
      " [2008]\n",
      " [2008]\n",
      " [2008]\n",
      " [2008]\n",
      " [2009]\n",
      " [2009]\n",
      " [2009]\n",
      " [2009]\n",
      " [2009]\n",
      " [2009]\n",
      " [2009]\n",
      " [2009]\n",
      " [2010]\n",
      " [2010]\n",
      " [2010]\n",
      " [2010]\n",
      " [2010]\n",
      " [2010]\n",
      " [2010]\n",
      " [2010]\n",
      " [2011]\n",
      " [2011]\n",
      " [2011]\n",
      " [2011]\n",
      " [2011]\n",
      " [2011]\n",
      " [2011]\n",
      " [2011]\n",
      " [2012]\n",
      " [2012]\n",
      " [2012]\n",
      " [2012]\n",
      " [2012]\n",
      " [2012]\n",
      " [2012]\n",
      " [2012]\n",
      " [2013]\n",
      " [2013]\n",
      " [2013]\n",
      " [2013]\n",
      " [2013]\n",
      " [2013]\n",
      " [2013]\n",
      " [2013]\n",
      " [2014]\n",
      " [2014]\n",
      " [2014]\n",
      " [2014]\n",
      " [2014]\n",
      " [2014]\n",
      " [2014]\n",
      " [2014]\n",
      " [2015]\n",
      " [2015]\n",
      " [2015]\n",
      " [2015]\n",
      " [2015]\n",
      " [2015]\n",
      " [2015]\n",
      " [2015]\n",
      " [2016]\n",
      " [2016]\n",
      " [2016]\n",
      " [2016]\n",
      " [2016]\n",
      " [2016]\n",
      " [2016]\n",
      " [2016]\n",
      " [2017]\n",
      " [2017]\n",
      " [2017]\n",
      " [2017]\n",
      " [2017]\n",
      " [2017]\n",
      " [2017]\n",
      " [2017]\n",
      " [2018]\n",
      " [2018]\n",
      " [2018]\n",
      " [2018]\n",
      " [2018]\n",
      " [2018]\n",
      " [2018]\n",
      " [2018]\n",
      " [2019]\n",
      " [2019]\n",
      " [2019]\n",
      " [2019]\n",
      " [2019]\n",
      " [2019]\n",
      " [2019]\n",
      " [2019]\n",
      " [2020]\n",
      " [2020]\n",
      " [2020]\n",
      " [2020]\n",
      " [2020]\n",
      " [2020]\n",
      " [2020]\n",
      " [2020]\n",
      " [2021]\n",
      " [2021]\n",
      " [2021]\n",
      " [2021]\n",
      " [2021]\n",
      " [2021]\n",
      " [2021]\n",
      " [2021]\n",
      " [2022]\n",
      " [2022]\n",
      " [2022]\n",
      " [2022]\n",
      " [2022]\n",
      " [2022]\n",
      " [2022]\n",
      " [2022]]\n"
     ]
    }
   ],
   "source": [
    "print(X)"
   ]
  },
  {
   "cell_type": "code",
   "execution_count": 261,
   "id": "2464071e",
   "metadata": {},
   "outputs": [],
   "source": [
    "le=LabelEncoder()\n",
    "data_irl[\"Type of Vehicle\"] = le.fit_transform(data_irl[\"Type of Vehicle\"])"
   ]
  },
  {
   "cell_type": "code",
   "execution_count": 262,
   "id": "333430a6",
   "metadata": {},
   "outputs": [
    {
     "data": {
      "text/html": [
       "<div>\n",
       "<style scoped>\n",
       "    .dataframe tbody tr th:only-of-type {\n",
       "        vertical-align: middle;\n",
       "    }\n",
       "\n",
       "    .dataframe tbody tr th {\n",
       "        vertical-align: top;\n",
       "    }\n",
       "\n",
       "    .dataframe thead th {\n",
       "        text-align: right;\n",
       "    }\n",
       "</style>\n",
       "<table border=\"1\" class=\"dataframe\">\n",
       "  <thead>\n",
       "    <tr style=\"text-align: right;\">\n",
       "      <th></th>\n",
       "      <th>Statistic Label</th>\n",
       "      <th>Year</th>\n",
       "      <th>Type of Vehicle</th>\n",
       "      <th>VALUE</th>\n",
       "    </tr>\n",
       "  </thead>\n",
       "  <tbody>\n",
       "    <tr>\n",
       "      <th>0</th>\n",
       "      <td>Vehicle Population</td>\n",
       "      <td>2000</td>\n",
       "      <td>5</td>\n",
       "      <td>1314059</td>\n",
       "    </tr>\n",
       "    <tr>\n",
       "      <th>1</th>\n",
       "      <td>Vehicle Population</td>\n",
       "      <td>2000</td>\n",
       "      <td>1</td>\n",
       "      <td>199259</td>\n",
       "    </tr>\n",
       "    <tr>\n",
       "      <th>2</th>\n",
       "      <td>Vehicle Population</td>\n",
       "      <td>2000</td>\n",
       "      <td>3</td>\n",
       "      <td>28489</td>\n",
       "    </tr>\n",
       "    <tr>\n",
       "      <th>3</th>\n",
       "      <td>Vehicle Population</td>\n",
       "      <td>2000</td>\n",
       "      <td>7</td>\n",
       "      <td>74211</td>\n",
       "    </tr>\n",
       "    <tr>\n",
       "      <th>4</th>\n",
       "      <td>Vehicle Population</td>\n",
       "      <td>2000</td>\n",
       "      <td>6</td>\n",
       "      <td>13983</td>\n",
       "    </tr>\n",
       "    <tr>\n",
       "      <th>...</th>\n",
       "      <td>...</td>\n",
       "      <td>...</td>\n",
       "      <td>...</td>\n",
       "      <td>...</td>\n",
       "    </tr>\n",
       "    <tr>\n",
       "      <th>179</th>\n",
       "      <td>Vehicle Population</td>\n",
       "      <td>2022</td>\n",
       "      <td>7</td>\n",
       "      <td>83780</td>\n",
       "    </tr>\n",
       "    <tr>\n",
       "      <th>180</th>\n",
       "      <td>Vehicle Population</td>\n",
       "      <td>2022</td>\n",
       "      <td>6</td>\n",
       "      <td>17819</td>\n",
       "    </tr>\n",
       "    <tr>\n",
       "      <th>181</th>\n",
       "      <td>Vehicle Population</td>\n",
       "      <td>2022</td>\n",
       "      <td>2</td>\n",
       "      <td>11380</td>\n",
       "    </tr>\n",
       "    <tr>\n",
       "      <th>182</th>\n",
       "      <td>Vehicle Population</td>\n",
       "      <td>2022</td>\n",
       "      <td>0</td>\n",
       "      <td>30356</td>\n",
       "    </tr>\n",
       "    <tr>\n",
       "      <th>183</th>\n",
       "      <td>Vehicle Population</td>\n",
       "      <td>2022</td>\n",
       "      <td>4</td>\n",
       "      <td>83238</td>\n",
       "    </tr>\n",
       "  </tbody>\n",
       "</table>\n",
       "<p>184 rows × 4 columns</p>\n",
       "</div>"
      ],
      "text/plain": [
       "        Statistic Label  Year  Type of Vehicle    VALUE\n",
       "0    Vehicle Population  2000                5  1314059\n",
       "1    Vehicle Population  2000                1   199259\n",
       "2    Vehicle Population  2000                3    28489\n",
       "3    Vehicle Population  2000                7    74211\n",
       "4    Vehicle Population  2000                6    13983\n",
       "..                  ...   ...              ...      ...\n",
       "179  Vehicle Population  2022                7    83780\n",
       "180  Vehicle Population  2022                6    17819\n",
       "181  Vehicle Population  2022                2    11380\n",
       "182  Vehicle Population  2022                0    30356\n",
       "183  Vehicle Population  2022                4    83238\n",
       "\n",
       "[184 rows x 4 columns]"
      ]
     },
     "execution_count": 262,
     "metadata": {},
     "output_type": "execute_result"
    }
   ],
   "source": [
    "data_irl"
   ]
  },
  {
   "cell_type": "code",
   "execution_count": 263,
   "id": "a7143c28",
   "metadata": {},
   "outputs": [
    {
     "name": "stderr",
     "output_type": "stream",
     "text": [
      "C:\\Users\\mahmu\\anaconda3\\Lib\\site-packages\\seaborn\\axisgrid.py:118: UserWarning: The figure layout has changed to tight\n",
      "  self._figure.tight_layout(*args, **kwargs)\n"
     ]
    },
    {
     "data": {
      "text/plain": [
       "<seaborn.axisgrid.PairGrid at 0x1fe566dec90>"
      ]
     },
     "execution_count": 263,
     "metadata": {},
     "output_type": "execute_result"
    },
    {
     "data": {
      "image/png": "[encoded data removed]",
      "text/plain": [
       "<Figure size 750x750 with 12 Axes>"
      ]
     },
     "metadata": {},
     "output_type": "display_data"
    }
   ],
   "source": [
    "sns.pairplot(data_irl)"
   ]
  },
  {
   "cell_type": "code",
   "execution_count": 264,
   "id": "54471be6",
   "metadata": {},
   "outputs": [
    {
     "name": "stderr",
     "output_type": "stream",
     "text": [
      "C:\\Users\\mahmu\\AppData\\Local\\Temp\\ipykernel_17028\\2548407946.py:1: UserWarning: \n",
      "\n",
      "`distplot` is a deprecated function and will be removed in seaborn v0.14.0.\n",
      "\n",
      "Please adapt your code to use either `displot` (a figure-level function with\n",
      "similar flexibility) or `histplot` (an axes-level function for histograms).\n",
      "\n",
      "For a guide to updating your code to use the new functions, please see\n",
      "https://gist.github.com/mwaskom/de44147ed2974457ad6372750bbe5751\n",
      "\n",
      "  sns.distplot(data_irl['VALUE'])\n"
     ]
    },
    {
     "data": {
      "text/plain": [
       "<Axes: xlabel='VALUE', ylabel='Density'>"
      ]
     },
     "execution_count": 264,
     "metadata": {},
     "output_type": "execute_result"
    },
    {
     "data": {
      "image/png": "[encoded data removed]",
      "text/plain": [
       "<Figure size 640x480 with 1 Axes>"
      ]
     },
     "metadata": {},
     "output_type": "display_data"
    }
   ],
   "source": [
    "sns.distplot(data_irl['VALUE'])"
   ]
  },
  {
   "cell_type": "code",
   "execution_count": 265,
   "id": "eb0bcea4",
   "metadata": {},
   "outputs": [],
   "source": [
    "selected_columns = ['Year', 'Type of Vehicle', 'VALUE'] \n",
    "correlation_matrix = data_irl[selected_columns].corr()\n"
   ]
  },
  {
   "cell_type": "code",
   "execution_count": 266,
   "id": "94421a22",
   "metadata": {},
   "outputs": [
    {
     "data": {
      "text/html": [
       "<div>\n",
       "<style scoped>\n",
       "    .dataframe tbody tr th:only-of-type {\n",
       "        vertical-align: middle;\n",
       "    }\n",
       "\n",
       "    .dataframe tbody tr th {\n",
       "        vertical-align: top;\n",
       "    }\n",
       "\n",
       "    .dataframe thead th {\n",
       "        text-align: right;\n",
       "    }\n",
       "</style>\n",
       "<table border=\"1\" class=\"dataframe\">\n",
       "  <thead>\n",
       "    <tr style=\"text-align: right;\">\n",
       "      <th></th>\n",
       "      <th>Year</th>\n",
       "      <th>Type of Vehicle</th>\n",
       "      <th>VALUE</th>\n",
       "    </tr>\n",
       "  </thead>\n",
       "  <tbody>\n",
       "    <tr>\n",
       "      <th>Year</th>\n",
       "      <td>1.000000e+00</td>\n",
       "      <td>-5.335630e-16</td>\n",
       "      <td>0.07087</td>\n",
       "    </tr>\n",
       "    <tr>\n",
       "      <th>Type of Vehicle</th>\n",
       "      <td>-5.335630e-16</td>\n",
       "      <td>1.000000e+00</td>\n",
       "      <td>0.20302</td>\n",
       "    </tr>\n",
       "    <tr>\n",
       "      <th>VALUE</th>\n",
       "      <td>7.086969e-02</td>\n",
       "      <td>2.030200e-01</td>\n",
       "      <td>1.00000</td>\n",
       "    </tr>\n",
       "  </tbody>\n",
       "</table>\n",
       "</div>"
      ],
      "text/plain": [
       "                         Year  Type of Vehicle    VALUE\n",
       "Year             1.000000e+00    -5.335630e-16  0.07087\n",
       "Type of Vehicle -5.335630e-16     1.000000e+00  0.20302\n",
       "VALUE            7.086969e-02     2.030200e-01  1.00000"
      ]
     },
     "execution_count": 266,
     "metadata": {},
     "output_type": "execute_result"
    }
   ],
   "source": [
    "correlation_matrix"
   ]
  },
  {
   "cell_type": "code",
   "execution_count": 267,
   "id": "cf74bd7b",
   "metadata": {},
   "outputs": [
    {
     "data": {
      "image/png": "[encoded data removed]",
      "text/plain": [
       "<Figure size 600x600 with 2 Axes>"
      ]
     },
     "metadata": {},
     "output_type": "display_data"
    }
   ],
   "source": [
    "plt.figure(figsize=(6, 6))\n",
    "heatmap = sns.heatmap(correlation_matrix, vmin=-1, vmax=1, annot=True)\n",
    "heatmap.set_title('Correlation Heatmap', fontdict={'fontsize':12}, pad=12);"
   ]
  },
  {
   "cell_type": "markdown",
   "id": "18d63afc",
   "metadata": {},
   "source": [
    "## linear regression"
   ]
  },
  {
   "cell_type": "code",
   "execution_count": 268,
   "id": "94c47412",
   "metadata": {},
   "outputs": [
    {
     "name": "stdout",
     "output_type": "stream",
     "text": [
      "(184, 1)\n",
      "<class 'numpy.ndarray'>\n"
     ]
    }
   ],
   "source": [
    "X = data_irl.iloc[:,1:2].values  \n",
    "y = data_irl.iloc[:,-1].values \n",
    "print(X.shape)\n",
    "print(type(X))"
   ]
  },
  {
   "cell_type": "code",
   "execution_count": 269,
   "id": "8b4a6e7b",
   "metadata": {},
   "outputs": [],
   "source": [
    "# Using linear regression\n",
    "from sklearn.model_selection import train_test_split\n",
    "X_train, X_test, y_train, y_test = train_test_split(X, y, test_size = 0.3)"
   ]
  },
  {
   "cell_type": "code",
   "execution_count": 270,
   "id": "fc48457f",
   "metadata": {},
   "outputs": [
    {
     "data": {
      "text/html": [
       "<style>#sk-container-id-12 {color: black;}#sk-container-id-12 pre{padding: 0;}#sk-container-id-12 div.sk-toggleable {background-color: white;}#sk-container-id-12 label.sk-toggleable__label {cursor: pointer;display: block;width: 100%;margin-bottom: 0;padding: 0.3em;box-sizing: border-box;text-align: center;}#sk-container-id-12 label.sk-toggleable__label-arrow:before {content: \"▸\";float: left;margin-right: 0.25em;color: #696969;}#sk-container-id-12 label.sk-toggleable__label-arrow:hover:before {color: black;}#sk-container-id-12 div.sk-estimator:hover label.sk-toggleable__label-arrow:before {color: black;}#sk-container-id-12 div.sk-toggleable__content {max-height: 0;max-width: 0;overflow: hidden;text-align: left;background-color: #f0f8ff;}#sk-container-id-12 div.sk-toggleable__content pre {margin: 0.2em;color: black;border-radius: 0.25em;background-color: #f0f8ff;}#sk-container-id-12 input.sk-toggleable__control:checked~div.sk-toggleable__content {max-height: 200px;max-width: 100%;overflow: auto;}#sk-container-id-12 input.sk-toggleable__control:checked~label.sk-toggleable__label-arrow:before {content: \"▾\";}#sk-container-id-12 div.sk-estimator input.sk-toggleable__control:checked~label.sk-toggleable__label {background-color: #d4ebff;}#sk-container-id-12 div.sk-label input.sk-toggleable__control:checked~label.sk-toggleable__label {background-color: #d4ebff;}#sk-container-id-12 input.sk-hidden--visually {border: 0;clip: rect(1px 1px 1px 1px);clip: rect(1px, 1px, 1px, 1px);height: 1px;margin: -1px;overflow: hidden;padding: 0;position: absolute;width: 1px;}#sk-container-id-12 div.sk-estimator {font-family: monospace;background-color: #f0f8ff;border: 1px dotted black;border-radius: 0.25em;box-sizing: border-box;margin-bottom: 0.5em;}#sk-container-id-12 div.sk-estimator:hover {background-color: #d4ebff;}#sk-container-id-12 div.sk-parallel-item::after {content: \"\";width: 100%;border-bottom: 1px solid gray;flex-grow: 1;}#sk-container-id-12 div.sk-label:hover label.sk-toggleable__label {background-color: #d4ebff;}#sk-container-id-12 div.sk-serial::before {content: \"\";position: absolute;border-left: 1px solid gray;box-sizing: border-box;top: 0;bottom: 0;left: 50%;z-index: 0;}#sk-container-id-12 div.sk-serial {display: flex;flex-direction: column;align-items: center;background-color: white;padding-right: 0.2em;padding-left: 0.2em;position: relative;}#sk-container-id-12 div.sk-item {position: relative;z-index: 1;}#sk-container-id-12 div.sk-parallel {display: flex;align-items: stretch;justify-content: center;background-color: white;position: relative;}#sk-container-id-12 div.sk-item::before, #sk-container-id-12 div.sk-parallel-item::before {content: \"\";position: absolute;border-left: 1px solid gray;box-sizing: border-box;top: 0;bottom: 0;left: 50%;z-index: -1;}#sk-container-id-12 div.sk-parallel-item {display: flex;flex-direction: column;z-index: 1;position: relative;background-color: white;}#sk-container-id-12 div.sk-parallel-item:first-child::after {align-self: flex-end;width: 50%;}#sk-container-id-12 div.sk-parallel-item:last-child::after {align-self: flex-start;width: 50%;}#sk-container-id-12 div.sk-parallel-item:only-child::after {width: 0;}#sk-container-id-12 div.sk-dashed-wrapped {border: 1px dashed gray;margin: 0 0.4em 0.5em 0.4em;box-sizing: border-box;padding-bottom: 0.4em;background-color: white;}#sk-container-id-12 div.sk-label label {font-family: monospace;font-weight: bold;display: inline-block;line-height: 1.2em;}#sk-container-id-12 div.sk-label-container {text-align: center;}#sk-container-id-12 div.sk-container {/* jupyter's `normalize.less` sets `[hidden] { display: none; }` but bootstrap.min.css set `[hidden] { display: none !important; }` so we also need the `!important` here to be able to override the default hidden behavior on the sphinx rendered scikit-learn.org. See: https://github.com/scikit-learn/scikit-learn/issues/21755 */display: inline-block !important;position: relative;}#sk-container-id-12 div.sk-text-repr-fallback {display: none;}</style><div id=\"sk-container-id-12\" class=\"sk-top-container\"><div class=\"sk-text-repr-fallback\"><pre>LinearRegression()</pre><b>In a Jupyter environment, please rerun this cell to show the HTML representation or trust the notebook. <br />On GitHub, the HTML representation is unable to render, please try loading this page with nbviewer.org.</b></div><div class=\"sk-container\" hidden><div class=\"sk-item\"><div class=\"sk-estimator sk-toggleable\"><input class=\"sk-toggleable__control sk-hidden--visually\" id=\"sk-estimator-id-12\" type=\"checkbox\" checked><label for=\"sk-estimator-id-12\" class=\"sk-toggleable__label sk-toggleable__label-arrow\">LinearRegression</label><div class=\"sk-toggleable__content\"><pre>LinearRegression()</pre></div></div></div></div></div>"
      ],
      "text/plain": [
       "LinearRegression()"
      ]
     },
     "execution_count": 270,
     "metadata": {},
     "output_type": "execute_result"
    }
   ],
   "source": [
    "from sklearn.linear_model import LinearRegression\n",
    "modelRegresyon = LinearRegression()\n",
    "modelRegresyon.fit(X_train, y_train)"
   ]
  },
  {
   "cell_type": "code",
   "execution_count": 271,
   "id": "37eca2b3",
   "metadata": {},
   "outputs": [],
   "source": [
    "y_pred = modelRegresyon.predict(X_test)\n"
   ]
  },
  {
   "cell_type": "code",
   "execution_count": 272,
   "id": "4a7c4da7",
   "metadata": {},
   "outputs": [
    {
     "data": {
      "image/png": "[encoded data removed]",
      "text/plain": [
       "<Figure size 640x480 with 1 Axes>"
      ]
     },
     "metadata": {},
     "output_type": "display_data"
    }
   ],
   "source": [
    "plt.scatter(X_train, y_train, color = 'red')\n",
    "plt.plot(X_train, modelRegresyon.predict(X_train), color = 'blue')\n",
    "plt.show()"
   ]
  },
  {
   "cell_type": "code",
   "execution_count": 273,
   "id": "79e25e9d",
   "metadata": {},
   "outputs": [
    {
     "data": {
      "image/png": "[encoded data removed]",
      "text/plain": [
       "<Figure size 640x480 with 1 Axes>"
      ]
     },
     "metadata": {},
     "output_type": "display_data"
    }
   ],
   "source": [
    "plt.scatter(X_test, y_test, color = 'green')\n",
    "plt.plot(X_test, modelRegresyon.predict(X_test), color = 'blue')\n",
    "plt.show()"
   ]
  },
  {
   "cell_type": "code",
   "execution_count": 274,
   "id": "04d2db0b",
   "metadata": {},
   "outputs": [],
   "source": [
    "from sklearn.metrics import explained_variance_score, mean_absolute_error, mean_squared_error\n",
    "from sklearn.metrics import median_absolute_error, r2_score"
   ]
  },
  {
   "cell_type": "code",
   "execution_count": 275,
   "id": "53103804",
   "metadata": {},
   "outputs": [
    {
     "name": "stdout",
     "output_type": "stream",
     "text": [
      "R-Sq:  -0.06918420984176499\n",
      "MAE:  400346.0136429116\n",
      "MSE:  377284834744.7087\n",
      "MedAE:  250824.98300579935\n",
      "EVS:  -0.06555710176410012\n"
     ]
    }
   ],
   "source": [
    "print(\"R-Sq: \", r2_score(y_test, y_pred))\n",
    "print(\"MAE: \", mean_absolute_error(y_test, y_pred))\n",
    "print(\"MSE: \", mean_squared_error(y_test, y_pred))\n",
    "print(\"MedAE: \", median_absolute_error(y_test, y_pred))\n",
    "print(\"EVS: \", explained_variance_score(y_test, y_pred))"
   ]
  },
  {
   "cell_type": "markdown",
   "id": "12f4d532",
   "metadata": {},
   "source": []
  },
  {
   "cell_type": "markdown",
   "id": "7dcbc5a1",
   "metadata": {},
   "source": [
    "## support vector machine"
   ]
  },
  {
   "cell_type": "code",
   "execution_count": 312,
   "id": "39999866",
   "metadata": {},
   "outputs": [
    {
     "data": {
      "text/html": [
       "<div>\n",
       "<style scoped>\n",
       "    .dataframe tbody tr th:only-of-type {\n",
       "        vertical-align: middle;\n",
       "    }\n",
       "\n",
       "    .dataframe tbody tr th {\n",
       "        vertical-align: top;\n",
       "    }\n",
       "\n",
       "    .dataframe thead th {\n",
       "        text-align: right;\n",
       "    }\n",
       "</style>\n",
       "<table border=\"1\" class=\"dataframe\">\n",
       "  <thead>\n",
       "    <tr style=\"text-align: right;\">\n",
       "      <th></th>\n",
       "      <th>Statistic Label</th>\n",
       "      <th>Year</th>\n",
       "      <th>Type of Vehicle</th>\n",
       "      <th>VALUE</th>\n",
       "    </tr>\n",
       "  </thead>\n",
       "  <tbody>\n",
       "    <tr>\n",
       "      <th>0</th>\n",
       "      <td>Vehicle Population</td>\n",
       "      <td>2000</td>\n",
       "      <td>5</td>\n",
       "      <td>1314059</td>\n",
       "    </tr>\n",
       "    <tr>\n",
       "      <th>1</th>\n",
       "      <td>Vehicle Population</td>\n",
       "      <td>2000</td>\n",
       "      <td>1</td>\n",
       "      <td>199259</td>\n",
       "    </tr>\n",
       "    <tr>\n",
       "      <th>2</th>\n",
       "      <td>Vehicle Population</td>\n",
       "      <td>2000</td>\n",
       "      <td>3</td>\n",
       "      <td>28489</td>\n",
       "    </tr>\n",
       "    <tr>\n",
       "      <th>3</th>\n",
       "      <td>Vehicle Population</td>\n",
       "      <td>2000</td>\n",
       "      <td>7</td>\n",
       "      <td>74211</td>\n",
       "    </tr>\n",
       "    <tr>\n",
       "      <th>4</th>\n",
       "      <td>Vehicle Population</td>\n",
       "      <td>2000</td>\n",
       "      <td>6</td>\n",
       "      <td>13983</td>\n",
       "    </tr>\n",
       "    <tr>\n",
       "      <th>...</th>\n",
       "      <td>...</td>\n",
       "      <td>...</td>\n",
       "      <td>...</td>\n",
       "      <td>...</td>\n",
       "    </tr>\n",
       "    <tr>\n",
       "      <th>179</th>\n",
       "      <td>Vehicle Population</td>\n",
       "      <td>2022</td>\n",
       "      <td>7</td>\n",
       "      <td>83780</td>\n",
       "    </tr>\n",
       "    <tr>\n",
       "      <th>180</th>\n",
       "      <td>Vehicle Population</td>\n",
       "      <td>2022</td>\n",
       "      <td>6</td>\n",
       "      <td>17819</td>\n",
       "    </tr>\n",
       "    <tr>\n",
       "      <th>181</th>\n",
       "      <td>Vehicle Population</td>\n",
       "      <td>2022</td>\n",
       "      <td>2</td>\n",
       "      <td>11380</td>\n",
       "    </tr>\n",
       "    <tr>\n",
       "      <th>182</th>\n",
       "      <td>Vehicle Population</td>\n",
       "      <td>2022</td>\n",
       "      <td>0</td>\n",
       "      <td>30356</td>\n",
       "    </tr>\n",
       "    <tr>\n",
       "      <th>183</th>\n",
       "      <td>Vehicle Population</td>\n",
       "      <td>2022</td>\n",
       "      <td>4</td>\n",
       "      <td>83238</td>\n",
       "    </tr>\n",
       "  </tbody>\n",
       "</table>\n",
       "<p>184 rows × 4 columns</p>\n",
       "</div>"
      ],
      "text/plain": [
       "        Statistic Label  Year  Type of Vehicle    VALUE\n",
       "0    Vehicle Population  2000                5  1314059\n",
       "1    Vehicle Population  2000                1   199259\n",
       "2    Vehicle Population  2000                3    28489\n",
       "3    Vehicle Population  2000                7    74211\n",
       "4    Vehicle Population  2000                6    13983\n",
       "..                  ...   ...              ...      ...\n",
       "179  Vehicle Population  2022                7    83780\n",
       "180  Vehicle Population  2022                6    17819\n",
       "181  Vehicle Population  2022                2    11380\n",
       "182  Vehicle Population  2022                0    30356\n",
       "183  Vehicle Population  2022                4    83238\n",
       "\n",
       "[184 rows x 4 columns]"
      ]
     },
     "execution_count": 312,
     "metadata": {},
     "output_type": "execute_result"
    }
   ],
   "source": [
    "data_irl"
   ]
  },
  {
   "cell_type": "code",
   "execution_count": 315,
   "id": "5e722b39",
   "metadata": {},
   "outputs": [],
   "source": [
    "from sklearn.preprocessing import StandardScaler\n",
    "sc_X = StandardScaler()\n",
    "X = sc_X.fit_transform(X)\n"
   ]
  },
  {
   "cell_type": "code",
   "execution_count": 316,
   "id": "c92cf071",
   "metadata": {},
   "outputs": [
    {
     "data": {
      "text/html": [
       "<style>#sk-container-id-17 {color: black;}#sk-container-id-17 pre{padding: 0;}#sk-container-id-17 div.sk-toggleable {background-color: white;}#sk-container-id-17 label.sk-toggleable__label {cursor: pointer;display: block;width: 100%;margin-bottom: 0;padding: 0.3em;box-sizing: border-box;text-align: center;}#sk-container-id-17 label.sk-toggleable__label-arrow:before {content: \"▸\";float: left;margin-right: 0.25em;color: #696969;}#sk-container-id-17 label.sk-toggleable__label-arrow:hover:before {color: black;}#sk-container-id-17 div.sk-estimator:hover label.sk-toggleable__label-arrow:before {color: black;}#sk-container-id-17 div.sk-toggleable__content {max-height: 0;max-width: 0;overflow: hidden;text-align: left;background-color: #f0f8ff;}#sk-container-id-17 div.sk-toggleable__content pre {margin: 0.2em;color: black;border-radius: 0.25em;background-color: #f0f8ff;}#sk-container-id-17 input.sk-toggleable__control:checked~div.sk-toggleable__content {max-height: 200px;max-width: 100%;overflow: auto;}#sk-container-id-17 input.sk-toggleable__control:checked~label.sk-toggleable__label-arrow:before {content: \"▾\";}#sk-container-id-17 div.sk-estimator input.sk-toggleable__control:checked~label.sk-toggleable__label {background-color: #d4ebff;}#sk-container-id-17 div.sk-label input.sk-toggleable__control:checked~label.sk-toggleable__label {background-color: #d4ebff;}#sk-container-id-17 input.sk-hidden--visually {border: 0;clip: rect(1px 1px 1px 1px);clip: rect(1px, 1px, 1px, 1px);height: 1px;margin: -1px;overflow: hidden;padding: 0;position: absolute;width: 1px;}#sk-container-id-17 div.sk-estimator {font-family: monospace;background-color: #f0f8ff;border: 1px dotted black;border-radius: 0.25em;box-sizing: border-box;margin-bottom: 0.5em;}#sk-container-id-17 div.sk-estimator:hover {background-color: #d4ebff;}#sk-container-id-17 div.sk-parallel-item::after {content: \"\";width: 100%;border-bottom: 1px solid gray;flex-grow: 1;}#sk-container-id-17 div.sk-label:hover label.sk-toggleable__label {background-color: #d4ebff;}#sk-container-id-17 div.sk-serial::before {content: \"\";position: absolute;border-left: 1px solid gray;box-sizing: border-box;top: 0;bottom: 0;left: 50%;z-index: 0;}#sk-container-id-17 div.sk-serial {display: flex;flex-direction: column;align-items: center;background-color: white;padding-right: 0.2em;padding-left: 0.2em;position: relative;}#sk-container-id-17 div.sk-item {position: relative;z-index: 1;}#sk-container-id-17 div.sk-parallel {display: flex;align-items: stretch;justify-content: center;background-color: white;position: relative;}#sk-container-id-17 div.sk-item::before, #sk-container-id-17 div.sk-parallel-item::before {content: \"\";position: absolute;border-left: 1px solid gray;box-sizing: border-box;top: 0;bottom: 0;left: 50%;z-index: -1;}#sk-container-id-17 div.sk-parallel-item {display: flex;flex-direction: column;z-index: 1;position: relative;background-color: white;}#sk-container-id-17 div.sk-parallel-item:first-child::after {align-self: flex-end;width: 50%;}#sk-container-id-17 div.sk-parallel-item:last-child::after {align-self: flex-start;width: 50%;}#sk-container-id-17 div.sk-parallel-item:only-child::after {width: 0;}#sk-container-id-17 div.sk-dashed-wrapped {border: 1px dashed gray;margin: 0 0.4em 0.5em 0.4em;box-sizing: border-box;padding-bottom: 0.4em;background-color: white;}#sk-container-id-17 div.sk-label label {font-family: monospace;font-weight: bold;display: inline-block;line-height: 1.2em;}#sk-container-id-17 div.sk-label-container {text-align: center;}#sk-container-id-17 div.sk-container {/* jupyter's `normalize.less` sets `[hidden] { display: none; }` but bootstrap.min.css set `[hidden] { display: none !important; }` so we also need the `!important` here to be able to override the default hidden behavior on the sphinx rendered scikit-learn.org. See: https://github.com/scikit-learn/scikit-learn/issues/21755 */display: inline-block !important;position: relative;}#sk-container-id-17 div.sk-text-repr-fallback {display: none;}</style><div id=\"sk-container-id-17\" class=\"sk-top-container\"><div class=\"sk-text-repr-fallback\"><pre>SVR()</pre><b>In a Jupyter environment, please rerun this cell to show the HTML representation or trust the notebook. <br />On GitHub, the HTML representation is unable to render, please try loading this page with nbviewer.org.</b></div><div class=\"sk-container\" hidden><div class=\"sk-item\"><div class=\"sk-estimator sk-toggleable\"><input class=\"sk-toggleable__control sk-hidden--visually\" id=\"sk-estimator-id-17\" type=\"checkbox\" checked><label for=\"sk-estimator-id-17\" class=\"sk-toggleable__label sk-toggleable__label-arrow\">SVR</label><div class=\"sk-toggleable__content\"><pre>SVR()</pre></div></div></div></div></div>"
      ],
      "text/plain": [
       "SVR()"
      ]
     },
     "execution_count": 316,
     "metadata": {},
     "output_type": "execute_result"
    }
   ],
   "source": [
    "from sklearn.svm import SVR\n",
    "regressor = SVR(kernel = \"rbf\")\n",
    "regressor.fit(X,y)\n"
   ]
  },
  {
   "cell_type": "code",
   "execution_count": 317,
   "id": "a74f3f98",
   "metadata": {},
   "outputs": [
    {
     "data": {
      "image/png": "[encoded data removed]",
      "text/plain": [
       "<Figure size 640x480 with 1 Axes>"
      ]
     },
     "metadata": {},
     "output_type": "display_data"
    }
   ],
   "source": [
    "import matplotlib.pyplot as plt\n",
    "plt.scatter(X, y , color=\"red\")\n",
    "plt.plot(X, regressor.predict(X), color=\"blue\")\n",
    "plt.show()"
   ]
  },
  {
   "cell_type": "markdown",
   "id": "41fb1521",
   "metadata": {},
   "source": []
  }
 ],
 "metadata": {
  "kernelspec": {
   "display_name": "Python 3 (ipykernel)",
   "language": "python",
   "name": "python3"
  },
  "language_info": {
   "codemirror_mode": {
    "name": "ipython",
    "version": 3
   },
   "file_extension": ".py",
   "mimetype": "text/x-python",
   "name": "python",
   "nbconvert_exporter": "python",
   "pygments_lexer": "ipython3",
   "version": "3.11.5"
  }
 },
 "nbformat": 4,
 "nbformat_minor": 5
}
